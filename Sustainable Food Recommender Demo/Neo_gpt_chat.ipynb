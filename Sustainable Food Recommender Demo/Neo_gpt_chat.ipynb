{
  "cells": [
    {
      "cell_type": "code",
      "execution_count": 10,
      "metadata": {
        "id": "7DAowPUUSYEZ"
      },
      "outputs": [],
      "source": [
        "%%capture\n",
        "!pip install transformers\n",
        "!pip install -U sentence-transformers\n",
        "!pip install datasets\n",
        "!pip install evaluate\n",
        "!pip install googletrans==3.1.0a0\n",
        "\n",
        "from google.colab import drive\n",
        "drive.mount('/content/drive')\n",
        "\n",
        "import tensorflow as tf\n",
        "from transformers import TFGPT2LMHeadModel, GPT2Tokenizer\n",
        "from googletrans import Translator\n",
        "from sentence_transformers import SentenceTransformer, util\n",
        "import sys\n",
        "import os\n",
        "import pandas as pd\n",
        "import numpy as np\n",
        "\n"
      ]
    },
    {
      "cell_type": "code",
      "execution_count": 2,
      "metadata": {
        "id": "1qtbQMFRczmG"
      },
      "outputs": [],
      "source": [
        "dataset = pd.read_csv(\"/content/drive/MyDrive/Semantics In Intelligent Information Access/dataset_covered_recipes.csv\",sep=';')#, header=0, index_col = 0)\n",
        "risposta_utente = \"oats,banana,milk\"  #input(\"Hi! insert a recipe or ingredients: \") #meat\n",
        "embedding_ing = emb_model.encode(risposta_utente)"
      ]
    },
    {
      "cell_type": "markdown",
      "source": [
        "EleutherAI/gpt-neo-2.7B text generation"
      ],
      "metadata": {
        "id": "OH-rrnkgR-l8"
      }
    },
    {
      "cell_type": "code",
      "source": [
        "from transformers import AutoTokenizer, AutoModelForCausalLM, AutoTokenizer, pipeline\n",
        "\n",
        "tokenizer = AutoTokenizer.from_pretrained(\"EleutherAI/gpt-neo-2.7B\")\n",
        "tokenizer.pad_token = tokenizer.eos_token\n",
        "model =  AutoModelForCausalLM.from_pretrained(\"EleutherAI/gpt-neo-2.7B\", pad_token_id=tokenizer.eos_token_id)"
      ],
      "metadata": {
        "id": "2ZqeMJcgsmqy"
      },
      "execution_count": 3,
      "outputs": []
    },
    {
      "cell_type": "code",
      "source": [
        "if 'emb_model' not in globals():\n",
        "  emb_model = SentenceTransformer('sentence-transformers/all-MiniLM-L6-v2')\n",
        "dataset = pd.read_csv(\"/content/drive/MyDrive/Semantics In Intelligent Information Access/dataset_covered_recipes.csv\",sep=';')#, header=0, index_col = 0)"
      ],
      "metadata": {
        "id": "esjPhwVtn-Td"
      },
      "execution_count": 11,
      "outputs": []
    },
    {
      "cell_type": "code",
      "source": [
        "my_ingredients = 'oats,banana,milk'\n",
        "embedding_ing = emb_model.encode(my_ingredients)"
      ],
      "metadata": {
        "id": "6Uvj5SqXn0nc"
      },
      "execution_count": null,
      "outputs": []
    },
    {
      "cell_type": "code",
      "source": [
        "import sys\n",
        "import os\n",
        "import pandas as pd\n",
        "import numpy as np\n",
        "from sentence_transformers import SentenceTransformer, util\n",
        "\n",
        "dataset_sustainable =  dataset.loc[np.where(dataset['SUSTAINABILITY'].eq('HIGH'))]\n",
        "dataset_sustainable.reset_index(inplace = True,drop = True)\n",
        "embedding_recipes = emb_model.encode(dataset_sustainable['ingredients'])\n",
        "\n",
        "# more sustainable\n",
        "scores = []  \n",
        "scores = util.pytorch_cos_sim(embedding_ing, embedding_recipes).flatten()\n",
        "print(scores)\n",
        "sorted = scores.argsort()[-3:]\n",
        "print(scores[sorted])\n",
        "high_results = dataset_sustainable.loc[sorted]"
      ],
      "metadata": {
        "colab": {
          "base_uri": "https://localhost:8080/"
        },
        "id": "udiRFsbdnjOH",
        "outputId": "b6d2ad51-d6e3-4b49-9be6-b6aab32c34b2"
      },
      "execution_count": 12,
      "outputs": [
        {
          "output_type": "stream",
          "name": "stdout",
          "text": [
            "tensor([0.0759, 0.2650, 0.2650,  ..., 0.6454, 0.3984, 0.4800])\n",
            "tensor([0.8304, 0.8824, 0.9423])\n"
          ]
        }
      ]
    },
    {
      "cell_type": "code",
      "source": [
        "dataset_mid_sustainable =  dataset.loc[np.where(dataset['SUSTAINABILITY'].eq('MEDIUM'))]\n",
        "dataset_mid_sustainable.reset_index(inplace = True,drop = True)\n",
        "embedding_mid_sus_recipes = emb_model.encode(dataset_mid_sustainable['ingredients'])\n",
        "\n",
        "# not so sustainable\n",
        "mid_sus_scores = []\n",
        "mid_sus_scores = util.pytorch_cos_sim(embedding_ing, embedding_mid_sus_recipes).flatten()\n",
        "print(mid_sus_scores)\n",
        "mid_sorted = mid_sus_scores.argsort()[-3:]\n",
        "print(mid_sus_scores[mid_sorted])\n",
        "medium_results = dataset_mid_sustainable.loc[sorted]"
      ],
      "metadata": {
        "colab": {
          "base_uri": "https://localhost:8080/"
        },
        "id": "7MytryFMnl1Y",
        "outputId": "291864d5-2879-415f-ce53-60cba317a589"
      },
      "execution_count": 13,
      "outputs": [
        {
          "output_type": "stream",
          "name": "stdout",
          "text": [
            "tensor([0.6187, 0.4644, 0.6124,  ..., 0.4748, 0.4394, 0.5109])\n",
            "tensor([0.7735, 0.7783, 0.7811])\n"
          ]
        }
      ]
    },
    {
      "cell_type": "code",
      "source": [
        "display(high_results, medium_results)"
      ],
      "metadata": {
        "colab": {
          "base_uri": "https://localhost:8080/",
          "height": 270
        },
        "id": "DZobUngtovUw",
        "outputId": "b2d175fe-79d2-4eed-87c2-27a7c0fa6350"
      },
      "execution_count": 14,
      "outputs": [
        {
          "output_type": "display_data",
          "data": {
            "text/plain": [
              "      recipe_id                                      title  \\\n",
              "487       35477                          Survival Necklace   \n",
              "1951      50516                 Strawberry Banana Smoothie   \n",
              "1728       2818  Oatmeal and Bananas Breakfast (Baby Food)   \n",
              "\n",
              "                                                    url  \\\n",
              "487   http://www.food.com/recipe/survival-necklace-9...   \n",
              "1951  http://www.kraftrecipes.com/recipes/strawberry...   \n",
              "1728  http://www.food.com/recipe/oatmeal-and-bananas...   \n",
              "\n",
              "                              ingredients SUSTAINABILITY  \n",
              "487                       banana,oat meal           HIGH  \n",
              "1951  cow milk,banana,strawberry,oat meal           HIGH  \n",
              "1728                  oat,cow milk,banana           HIGH  "
            ],
            "text/html": [
              "\n",
              "  <div id=\"df-f39e2445-1b00-460d-8395-db2411829649\">\n",
              "    <div class=\"colab-df-container\">\n",
              "      <div>\n",
              "<style scoped>\n",
              "    .dataframe tbody tr th:only-of-type {\n",
              "        vertical-align: middle;\n",
              "    }\n",
              "\n",
              "    .dataframe tbody tr th {\n",
              "        vertical-align: top;\n",
              "    }\n",
              "\n",
              "    .dataframe thead th {\n",
              "        text-align: right;\n",
              "    }\n",
              "</style>\n",
              "<table border=\"1\" class=\"dataframe\">\n",
              "  <thead>\n",
              "    <tr style=\"text-align: right;\">\n",
              "      <th></th>\n",
              "      <th>recipe_id</th>\n",
              "      <th>title</th>\n",
              "      <th>url</th>\n",
              "      <th>ingredients</th>\n",
              "      <th>SUSTAINABILITY</th>\n",
              "    </tr>\n",
              "  </thead>\n",
              "  <tbody>\n",
              "    <tr>\n",
              "      <th>487</th>\n",
              "      <td>35477</td>\n",
              "      <td>Survival Necklace</td>\n",
              "      <td>http://www.food.com/recipe/survival-necklace-9...</td>\n",
              "      <td>banana,oat meal</td>\n",
              "      <td>HIGH</td>\n",
              "    </tr>\n",
              "    <tr>\n",
              "      <th>1951</th>\n",
              "      <td>50516</td>\n",
              "      <td>Strawberry Banana Smoothie</td>\n",
              "      <td>http://www.kraftrecipes.com/recipes/strawberry...</td>\n",
              "      <td>cow milk,banana,strawberry,oat meal</td>\n",
              "      <td>HIGH</td>\n",
              "    </tr>\n",
              "    <tr>\n",
              "      <th>1728</th>\n",
              "      <td>2818</td>\n",
              "      <td>Oatmeal and Bananas Breakfast (Baby Food)</td>\n",
              "      <td>http://www.food.com/recipe/oatmeal-and-bananas...</td>\n",
              "      <td>oat,cow milk,banana</td>\n",
              "      <td>HIGH</td>\n",
              "    </tr>\n",
              "  </tbody>\n",
              "</table>\n",
              "</div>\n",
              "      <button class=\"colab-df-convert\" onclick=\"convertToInteractive('df-f39e2445-1b00-460d-8395-db2411829649')\"\n",
              "              title=\"Convert this dataframe to an interactive table.\"\n",
              "              style=\"display:none;\">\n",
              "        \n",
              "  <svg xmlns=\"http://www.w3.org/2000/svg\" height=\"24px\"viewBox=\"0 0 24 24\"\n",
              "       width=\"24px\">\n",
              "    <path d=\"M0 0h24v24H0V0z\" fill=\"none\"/>\n",
              "    <path d=\"M18.56 5.44l.94 2.06.94-2.06 2.06-.94-2.06-.94-.94-2.06-.94 2.06-2.06.94zm-11 1L8.5 8.5l.94-2.06 2.06-.94-2.06-.94L8.5 2.5l-.94 2.06-2.06.94zm10 10l.94 2.06.94-2.06 2.06-.94-2.06-.94-.94-2.06-.94 2.06-2.06.94z\"/><path d=\"M17.41 7.96l-1.37-1.37c-.4-.4-.92-.59-1.43-.59-.52 0-1.04.2-1.43.59L10.3 9.45l-7.72 7.72c-.78.78-.78 2.05 0 2.83L4 21.41c.39.39.9.59 1.41.59.51 0 1.02-.2 1.41-.59l7.78-7.78 2.81-2.81c.8-.78.8-2.07 0-2.86zM5.41 20L4 18.59l7.72-7.72 1.47 1.35L5.41 20z\"/>\n",
              "  </svg>\n",
              "      </button>\n",
              "      \n",
              "  <style>\n",
              "    .colab-df-container {\n",
              "      display:flex;\n",
              "      flex-wrap:wrap;\n",
              "      gap: 12px;\n",
              "    }\n",
              "\n",
              "    .colab-df-convert {\n",
              "      background-color: #E8F0FE;\n",
              "      border: none;\n",
              "      border-radius: 50%;\n",
              "      cursor: pointer;\n",
              "      display: none;\n",
              "      fill: #1967D2;\n",
              "      height: 32px;\n",
              "      padding: 0 0 0 0;\n",
              "      width: 32px;\n",
              "    }\n",
              "\n",
              "    .colab-df-convert:hover {\n",
              "      background-color: #E2EBFA;\n",
              "      box-shadow: 0px 1px 2px rgba(60, 64, 67, 0.3), 0px 1px 3px 1px rgba(60, 64, 67, 0.15);\n",
              "      fill: #174EA6;\n",
              "    }\n",
              "\n",
              "    [theme=dark] .colab-df-convert {\n",
              "      background-color: #3B4455;\n",
              "      fill: #D2E3FC;\n",
              "    }\n",
              "\n",
              "    [theme=dark] .colab-df-convert:hover {\n",
              "      background-color: #434B5C;\n",
              "      box-shadow: 0px 1px 3px 1px rgba(0, 0, 0, 0.15);\n",
              "      filter: drop-shadow(0px 1px 2px rgba(0, 0, 0, 0.3));\n",
              "      fill: #FFFFFF;\n",
              "    }\n",
              "  </style>\n",
              "\n",
              "      <script>\n",
              "        const buttonEl =\n",
              "          document.querySelector('#df-f39e2445-1b00-460d-8395-db2411829649 button.colab-df-convert');\n",
              "        buttonEl.style.display =\n",
              "          google.colab.kernel.accessAllowed ? 'block' : 'none';\n",
              "\n",
              "        async function convertToInteractive(key) {\n",
              "          const element = document.querySelector('#df-f39e2445-1b00-460d-8395-db2411829649');\n",
              "          const dataTable =\n",
              "            await google.colab.kernel.invokeFunction('convertToInteractive',\n",
              "                                                     [key], {});\n",
              "          if (!dataTable) return;\n",
              "\n",
              "          const docLinkHtml = 'Like what you see? Visit the ' +\n",
              "            '<a target=\"_blank\" href=https://colab.research.google.com/notebooks/data_table.ipynb>data table notebook</a>'\n",
              "            + ' to learn more about interactive tables.';\n",
              "          element.innerHTML = '';\n",
              "          dataTable['output_type'] = 'display_data';\n",
              "          await google.colab.output.renderOutput(dataTable, element);\n",
              "          const docLink = document.createElement('div');\n",
              "          docLink.innerHTML = docLinkHtml;\n",
              "          element.appendChild(docLink);\n",
              "        }\n",
              "      </script>\n",
              "    </div>\n",
              "  </div>\n",
              "  "
            ]
          },
          "metadata": {}
        },
        {
          "output_type": "display_data",
          "data": {
            "text/plain": [
              "      recipe_id                    title  \\\n",
              "487        1305           Grapefruit Oil   \n",
              "1951      42439  Milk Gravy (Paula Deen)   \n",
              "1728       1100        Pressed Pie Crust   \n",
              "\n",
              "                                                    url  \\\n",
              "487             http://cooking.nytimes.com/recipes/3950   \n",
              "1951  http://www.food.com/recipe/milk-gravy-paula-de...   \n",
              "1728  http://tastykitchen.com/recipes/desserts/press...   \n",
              "\n",
              "                                            ingredients SUSTAINABILITY  \n",
              "487                         canola oil,grapefruit juice         MEDIUM  \n",
              "1951  olive oil,cow milk,wheat plain flour,black pep...         MEDIUM  \n",
              "1728    olive oil,cow milk,wheat plain flour,cane sugar         MEDIUM  "
            ],
            "text/html": [
              "\n",
              "  <div id=\"df-27d35d4e-ca08-4530-9095-d9843ebd6640\">\n",
              "    <div class=\"colab-df-container\">\n",
              "      <div>\n",
              "<style scoped>\n",
              "    .dataframe tbody tr th:only-of-type {\n",
              "        vertical-align: middle;\n",
              "    }\n",
              "\n",
              "    .dataframe tbody tr th {\n",
              "        vertical-align: top;\n",
              "    }\n",
              "\n",
              "    .dataframe thead th {\n",
              "        text-align: right;\n",
              "    }\n",
              "</style>\n",
              "<table border=\"1\" class=\"dataframe\">\n",
              "  <thead>\n",
              "    <tr style=\"text-align: right;\">\n",
              "      <th></th>\n",
              "      <th>recipe_id</th>\n",
              "      <th>title</th>\n",
              "      <th>url</th>\n",
              "      <th>ingredients</th>\n",
              "      <th>SUSTAINABILITY</th>\n",
              "    </tr>\n",
              "  </thead>\n",
              "  <tbody>\n",
              "    <tr>\n",
              "      <th>487</th>\n",
              "      <td>1305</td>\n",
              "      <td>Grapefruit Oil</td>\n",
              "      <td>http://cooking.nytimes.com/recipes/3950</td>\n",
              "      <td>canola oil,grapefruit juice</td>\n",
              "      <td>MEDIUM</td>\n",
              "    </tr>\n",
              "    <tr>\n",
              "      <th>1951</th>\n",
              "      <td>42439</td>\n",
              "      <td>Milk Gravy (Paula Deen)</td>\n",
              "      <td>http://www.food.com/recipe/milk-gravy-paula-de...</td>\n",
              "      <td>olive oil,cow milk,wheat plain flour,black pep...</td>\n",
              "      <td>MEDIUM</td>\n",
              "    </tr>\n",
              "    <tr>\n",
              "      <th>1728</th>\n",
              "      <td>1100</td>\n",
              "      <td>Pressed Pie Crust</td>\n",
              "      <td>http://tastykitchen.com/recipes/desserts/press...</td>\n",
              "      <td>olive oil,cow milk,wheat plain flour,cane sugar</td>\n",
              "      <td>MEDIUM</td>\n",
              "    </tr>\n",
              "  </tbody>\n",
              "</table>\n",
              "</div>\n",
              "      <button class=\"colab-df-convert\" onclick=\"convertToInteractive('df-27d35d4e-ca08-4530-9095-d9843ebd6640')\"\n",
              "              title=\"Convert this dataframe to an interactive table.\"\n",
              "              style=\"display:none;\">\n",
              "        \n",
              "  <svg xmlns=\"http://www.w3.org/2000/svg\" height=\"24px\"viewBox=\"0 0 24 24\"\n",
              "       width=\"24px\">\n",
              "    <path d=\"M0 0h24v24H0V0z\" fill=\"none\"/>\n",
              "    <path d=\"M18.56 5.44l.94 2.06.94-2.06 2.06-.94-2.06-.94-.94-2.06-.94 2.06-2.06.94zm-11 1L8.5 8.5l.94-2.06 2.06-.94-2.06-.94L8.5 2.5l-.94 2.06-2.06.94zm10 10l.94 2.06.94-2.06 2.06-.94-2.06-.94-.94-2.06-.94 2.06-2.06.94z\"/><path d=\"M17.41 7.96l-1.37-1.37c-.4-.4-.92-.59-1.43-.59-.52 0-1.04.2-1.43.59L10.3 9.45l-7.72 7.72c-.78.78-.78 2.05 0 2.83L4 21.41c.39.39.9.59 1.41.59.51 0 1.02-.2 1.41-.59l7.78-7.78 2.81-2.81c.8-.78.8-2.07 0-2.86zM5.41 20L4 18.59l7.72-7.72 1.47 1.35L5.41 20z\"/>\n",
              "  </svg>\n",
              "      </button>\n",
              "      \n",
              "  <style>\n",
              "    .colab-df-container {\n",
              "      display:flex;\n",
              "      flex-wrap:wrap;\n",
              "      gap: 12px;\n",
              "    }\n",
              "\n",
              "    .colab-df-convert {\n",
              "      background-color: #E8F0FE;\n",
              "      border: none;\n",
              "      border-radius: 50%;\n",
              "      cursor: pointer;\n",
              "      display: none;\n",
              "      fill: #1967D2;\n",
              "      height: 32px;\n",
              "      padding: 0 0 0 0;\n",
              "      width: 32px;\n",
              "    }\n",
              "\n",
              "    .colab-df-convert:hover {\n",
              "      background-color: #E2EBFA;\n",
              "      box-shadow: 0px 1px 2px rgba(60, 64, 67, 0.3), 0px 1px 3px 1px rgba(60, 64, 67, 0.15);\n",
              "      fill: #174EA6;\n",
              "    }\n",
              "\n",
              "    [theme=dark] .colab-df-convert {\n",
              "      background-color: #3B4455;\n",
              "      fill: #D2E3FC;\n",
              "    }\n",
              "\n",
              "    [theme=dark] .colab-df-convert:hover {\n",
              "      background-color: #434B5C;\n",
              "      box-shadow: 0px 1px 3px 1px rgba(0, 0, 0, 0.15);\n",
              "      filter: drop-shadow(0px 1px 2px rgba(0, 0, 0, 0.3));\n",
              "      fill: #FFFFFF;\n",
              "    }\n",
              "  </style>\n",
              "\n",
              "      <script>\n",
              "        const buttonEl =\n",
              "          document.querySelector('#df-27d35d4e-ca08-4530-9095-d9843ebd6640 button.colab-df-convert');\n",
              "        buttonEl.style.display =\n",
              "          google.colab.kernel.accessAllowed ? 'block' : 'none';\n",
              "\n",
              "        async function convertToInteractive(key) {\n",
              "          const element = document.querySelector('#df-27d35d4e-ca08-4530-9095-d9843ebd6640');\n",
              "          const dataTable =\n",
              "            await google.colab.kernel.invokeFunction('convertToInteractive',\n",
              "                                                     [key], {});\n",
              "          if (!dataTable) return;\n",
              "\n",
              "          const docLinkHtml = 'Like what you see? Visit the ' +\n",
              "            '<a target=\"_blank\" href=https://colab.research.google.com/notebooks/data_table.ipynb>data table notebook</a>'\n",
              "            + ' to learn more about interactive tables.';\n",
              "          element.innerHTML = '';\n",
              "          dataTable['output_type'] = 'display_data';\n",
              "          await google.colab.output.renderOutput(dataTable, element);\n",
              "          const docLink = document.createElement('div');\n",
              "          docLink.innerHTML = docLinkHtml;\n",
              "          element.appendChild(docLink);\n",
              "        }\n",
              "      </script>\n",
              "    </div>\n",
              "  </div>\n",
              "  "
            ]
          },
          "metadata": {}
        }
      ]
    },
    {
      "cell_type": "markdown",
      "source": [
        "## High sustainable"
      ],
      "metadata": {
        "id": "c4UNWfg8B2aI"
      }
    },
    {
      "cell_type": "code",
      "source": [
        "prompt = ['A recipe coat,cow milk,banana']\n",
        "\n",
        "text_generation_pipeline = pipeline(\"text-generation\", model=model, tokenizer=tokenizer, output_scores=True)\n",
        "generated_text = text_generation_pipeline(prompt, max_length=40, do_sample=True)\n",
        "\n",
        "generated_text[0]"
      ],
      "metadata": {
        "colab": {
          "base_uri": "https://localhost:8080/"
        },
        "id": "BCNfEJ5uR9c7",
        "outputId": "6fb9d858-4c2b-4173-d840-41bcfc9b60d6"
      },
      "execution_count": 4,
      "outputs": [
        {
          "output_type": "stream",
          "name": "stderr",
          "text": [
            "/usr/local/lib/python3.8/dist-packages/transformers/generation/utils.py:1186: UserWarning: You have modified the pretrained model configuration to control generation. This is a deprecated strategy to control generation and will be removed soon, in a future version. Please use a generation configuration file (see https://huggingface.co/docs/transformers/main_classes/text_generation)\n",
            "  warnings.warn(\n"
          ]
        },
        {
          "output_type": "execute_result",
          "data": {
            "text/plain": [
              "[{'generated_text': 'A recipe cow milk,banana,strawberry,oat meal is very delicious!\\n\\nTried this recipe? Don’t forget to leave your feedback below!\\n\\nLike this'}]"
            ]
          },
          "metadata": {},
          "execution_count": 4
        }
      ]
    },
    {
      "cell_type": "code",
      "source": [
        "prompt = ['What do you think about Oatmeal and Bananas Breakfast (Baby Food)? it has high sustainability']\n",
        "\n",
        "text_generation_pipeline = pipeline(\"text-generation\", model=model, tokenizer=tokenizer, output_scores=True)\n",
        "generated_text = text_generation_pipeline(prompt, max_length=40, do_sample=True)\n",
        "\n",
        "generated_text[0]"
      ],
      "metadata": {
        "colab": {
          "base_uri": "https://localhost:8080/"
        },
        "id": "yCpZXn3jm7w5",
        "outputId": "8de41b09-fa53-4f69-cac6-4c9b1d1c4785"
      },
      "execution_count": 5,
      "outputs": [
        {
          "output_type": "execute_result",
          "data": {
            "text/plain": [
              "[{'generated_text': 'What do you think about Strawberry Banana Smoothie? it has high sustainability index, it has rich source of nutrition & health benefits. Here are 20 healthy strawberry banana smoothie recipe below in healthy strawberry banana'}]"
            ]
          },
          "metadata": {},
          "execution_count": 5
        }
      ]
    },
    {
      "cell_type": "markdown",
      "source": [
        "## Medium sustainable"
      ],
      "metadata": {
        "id": "YArttTUnB5G4"
      }
    },
    {
      "cell_type": "code",
      "source": [
        "prompt = ['A recipe cow milk,banana,strawberry,oat meal is']\n",
        "\n",
        "text_generation_pipeline = pipeline(\"text-generation\", model=model, tokenizer=tokenizer, output_scores=True)\n",
        "generated_text = text_generation_pipeline(prompt, max_length=40, do_sample=True)\n",
        "\n",
        "generated_text[0]"
      ],
      "metadata": {
        "colab": {
          "base_uri": "https://localhost:8080/"
        },
        "id": "zlCSqoz3Bkkv",
        "outputId": "91ff8158-056b-4515-a966-0997cd44afda"
      },
      "execution_count": 6,
      "outputs": [
        {
          "output_type": "execute_result",
          "data": {
            "text/plain": [
              "[{'generated_text': 'A recipe cow milk,banana,strawberry,oat meal is used in making yogurt to make yogurt and many other foods.\\n\\nBread is made from flour. Fritters,'}]"
            ]
          },
          "metadata": {},
          "execution_count": 6
        }
      ]
    },
    {
      "cell_type": "code",
      "source": [
        "prompt = ['What do you think about Fruit and Malt Oat Shake? it has medium sustainability']\n",
        "\n",
        "text_generation_pipeline = pipeline(\"text-generation\", model=model, tokenizer=tokenizer, output_scores=True)\n",
        "generated_text = text_generation_pipeline(prompt, max_length=40, do_sample=True)\n",
        "\n",
        "generated_text[0]"
      ],
      "metadata": {
        "colab": {
          "base_uri": "https://localhost:8080/"
        },
        "id": "WceduxImBlBs",
        "outputId": "666f7545-145c-4c73-c700-a27c477c0c96"
      },
      "execution_count": 7,
      "outputs": [
        {
          "output_type": "execute_result",
          "data": {
            "text/plain": [
              "[{'generated_text': 'What do you think about Fruit and Malt Oat Shake? it has medium sustainability and is one of our favorites of the day!\\n\\nA few weeks back we talked about using applesauce in'}]"
            ]
          },
          "metadata": {},
          "execution_count": 7
        }
      ]
    }
  ],
  "metadata": {
    "colab": {
      "provenance": [],
      "machine_shape": "hm"
    },
    "kernelspec": {
      "display_name": "Python 3",
      "name": "python3"
    },
    "language_info": {
      "name": "python"
    },
    "gpuClass": "standard"
  },
  "nbformat": 4,
  "nbformat_minor": 0
}