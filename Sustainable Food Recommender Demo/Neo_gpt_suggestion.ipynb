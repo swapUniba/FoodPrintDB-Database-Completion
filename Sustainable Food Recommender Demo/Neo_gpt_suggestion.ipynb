{
  "cells": [
    {
      "cell_type": "code",
      "execution_count": null,
      "metadata": {
        "id": "7DAowPUUSYEZ"
      },
      "outputs": [],
      "source": [
        "%%capture\n",
        "!pip install transformers\n",
        "!pip install -U sentence-transformers\n",
        "!pip install datasets\n",
        "!pip install evaluate\n",
        "!pip install googletrans==3.1.0a0\n",
        "\n",
        "from google.colab import drive\n",
        "drive.mount('/content/drive')\n",
        "\n",
        "import tensorflow as tf\n",
        "from transformers import TFGPT2LMHeadModel, GPT2Tokenizer\n",
        "from googletrans import Translator\n",
        "from sentence_transformers import SentenceTransformer, util\n",
        "import sys\n",
        "import os\n",
        "import pandas as pd\n",
        "import numpy as np\n",
        "\n"
      ]
    },
    {
      "cell_type": "code",
      "source": [
        "from transformers import AutoTokenizer, AutoModelForCausalLM, AutoTokenizer, pipeline\n",
        "\n",
        "tokenizer = AutoTokenizer.from_pretrained(\"EleutherAI/gpt-neo-2.7B\")\n",
        "tokenizer.pad_token = tokenizer.eos_token\n",
        "if 'model' not in globals():\n",
        "  model =  AutoModelForCausalLM.from_pretrained(\"EleutherAI/gpt-neo-2.7B\", pad_token_id=tokenizer.eos_token_id)"
      ],
      "metadata": {
        "id": "2ZqeMJcgsmqy"
      },
      "execution_count": null,
      "outputs": []
    },
    {
      "cell_type": "code",
      "source": [
        "if 'emb_model' not in globals():\n",
        "  emb_model = SentenceTransformer('sentence-transformers/all-MiniLM-L6-v2')\n",
        "dataset = pd.read_csv(\"/content/drive/MyDrive/Semantics In Intelligent Information Access/dataset_covered_recipes.csv\",sep=';')#, header=0, index_col = 0)"
      ],
      "metadata": {
        "id": "esjPhwVtn-Td"
      },
      "execution_count": null,
      "outputs": []
    },
    {
      "cell_type": "code",
      "execution_count": null,
      "metadata": {
        "id": "1qtbQMFRczmG"
      },
      "outputs": [],
      "source": [
        "dataset = pd.read_csv(\"/content/drive/MyDrive/Semantics In Intelligent Information Access/dataset_covered_recipes.csv\",sep=';')#, header=0, index_col = 0)\n",
        "risposta_utente = \"oats,banana,milk\"  #input(\"Hi! insert a recipe or ingredients: \") #meat\n",
        "embedding_ing = emb_model.encode(risposta_utente)"
      ]
    },
    {
      "cell_type": "markdown",
      "source": [
        "EleutherAI/gpt-neo-2.7B text generation"
      ],
      "metadata": {
        "id": "OH-rrnkgR-l8"
      }
    },
    {
      "cell_type": "code",
      "source": [
        "my_ingredients = 'oats,banana,milk'\n",
        "embedding_ing = emb_model.encode(my_ingredients)"
      ],
      "metadata": {
        "id": "6Uvj5SqXn0nc"
      },
      "execution_count": null,
      "outputs": []
    },
    {
      "cell_type": "code",
      "source": [
        "import sys\n",
        "import os\n",
        "import pandas as pd\n",
        "import numpy as np\n",
        "from sentence_transformers import SentenceTransformer, util\n",
        "\n",
        "dataset_sustainable =  dataset.loc[np.where(dataset['SUSTAINABILITY'].eq('HIGH'))]\n",
        "dataset_sustainable.reset_index(inplace = True,drop = True)\n",
        "embedding_recipes = emb_model.encode(dataset_sustainable['ingredients'])\n",
        "\n",
        "# more sustainable\n",
        "scores = []  \n",
        "scores = util.pytorch_cos_sim(embedding_ing, embedding_recipes).flatten()\n",
        "print(scores)\n",
        "sorted = scores.argsort()[-3:]\n",
        "print(scores[sorted])\n",
        "high_results = dataset_sustainable.loc[sorted]"
      ],
      "metadata": {
        "colab": {
          "base_uri": "https://localhost:8080/"
        },
        "id": "udiRFsbdnjOH",
        "outputId": "4bc9c5b3-4f47-4e7c-8c41-42ec293c744d"
      },
      "execution_count": null,
      "outputs": [
        {
          "output_type": "stream",
          "name": "stdout",
          "text": [
            "tensor([0.0759, 0.2650, 0.2650,  ..., 0.6454, 0.3984, 0.4800])\n",
            "tensor([0.8304, 0.8824, 0.9423])\n"
          ]
        }
      ]
    },
    {
      "cell_type": "code",
      "source": [
        "dataset_mid_sustainable =  dataset.loc[np.where(dataset['SUSTAINABILITY'].eq('MEDIUM'))]\n",
        "dataset_mid_sustainable.reset_index(inplace = True,drop = True)\n",
        "embedding_mid_sus_recipes = emb_model.encode(dataset_mid_sustainable['ingredients'])\n",
        "\n",
        "# not so sustainable\n",
        "mid_sus_scores = []\n",
        "mid_sus_scores = util.pytorch_cos_sim(embedding_ing, embedding_mid_sus_recipes).flatten()\n",
        "print(mid_sus_scores)\n",
        "mid_sorted = mid_sus_scores.argsort()[-3:]\n",
        "print(mid_sus_scores[mid_sorted])\n",
        "medium_results = dataset_mid_sustainable.loc[sorted]"
      ],
      "metadata": {
        "colab": {
          "base_uri": "https://localhost:8080/"
        },
        "id": "7MytryFMnl1Y",
        "outputId": "8f27aa41-93e0-436b-f635-ef37dfb9eb32"
      },
      "execution_count": null,
      "outputs": [
        {
          "output_type": "stream",
          "name": "stdout",
          "text": [
            "tensor([0.6187, 0.4644, 0.6124,  ..., 0.4748, 0.4394, 0.5109])\n",
            "tensor([0.7735, 0.7783, 0.7811])\n"
          ]
        }
      ]
    },
    {
      "cell_type": "markdown",
      "source": [
        "## High sustainable"
      ],
      "metadata": {
        "id": "c4UNWfg8B2aI"
      }
    },
    {
      "cell_type": "code",
      "source": [
        "from transformers import set_seed\n",
        "\n",
        "set_seed(42)"
      ],
      "metadata": {
        "id": "wPTMPtzYONT0"
      },
      "execution_count": null,
      "outputs": []
    },
    {
      "cell_type": "code",
      "source": [
        "title = high_results.iloc[2,1]\n",
        "url = high_results.iloc[2, 2]\n",
        "ingredients = high_results.iloc[2, 3]\n",
        "\n",
        "display(high_results, title, url, ingredients)"
      ],
      "metadata": {
        "colab": {
          "base_uri": "https://localhost:8080/",
          "height": 196
        },
        "id": "BBNc-hW5Su4k",
        "outputId": "a48e2726-60cf-4bad-9f41-dc055664016a"
      },
      "execution_count": null,
      "outputs": [
        {
          "output_type": "display_data",
          "data": {
            "text/plain": [
              "      recipe_id                                      title  \\\n",
              "487       35477                          Survival Necklace   \n",
              "1951      50516                 Strawberry Banana Smoothie   \n",
              "1728       2818  Oatmeal and Bananas Breakfast (Baby Food)   \n",
              "\n",
              "                                                    url  \\\n",
              "487   http://www.food.com/recipe/survival-necklace-9...   \n",
              "1951  http://www.kraftrecipes.com/recipes/strawberry...   \n",
              "1728  http://www.food.com/recipe/oatmeal-and-bananas...   \n",
              "\n",
              "                              ingredients SUSTAINABILITY  \n",
              "487                       banana,oat meal           HIGH  \n",
              "1951  cow milk,banana,strawberry,oat meal           HIGH  \n",
              "1728                  oat,cow milk,banana           HIGH  "
            ],
            "text/html": [
              "\n",
              "  <div id=\"df-fcb1bcba-fe46-4397-859c-c43e23af6bf9\">\n",
              "    <div class=\"colab-df-container\">\n",
              "      <div>\n",
              "<style scoped>\n",
              "    .dataframe tbody tr th:only-of-type {\n",
              "        vertical-align: middle;\n",
              "    }\n",
              "\n",
              "    .dataframe tbody tr th {\n",
              "        vertical-align: top;\n",
              "    }\n",
              "\n",
              "    .dataframe thead th {\n",
              "        text-align: right;\n",
              "    }\n",
              "</style>\n",
              "<table border=\"1\" class=\"dataframe\">\n",
              "  <thead>\n",
              "    <tr style=\"text-align: right;\">\n",
              "      <th></th>\n",
              "      <th>recipe_id</th>\n",
              "      <th>title</th>\n",
              "      <th>url</th>\n",
              "      <th>ingredients</th>\n",
              "      <th>SUSTAINABILITY</th>\n",
              "    </tr>\n",
              "  </thead>\n",
              "  <tbody>\n",
              "    <tr>\n",
              "      <th>487</th>\n",
              "      <td>35477</td>\n",
              "      <td>Survival Necklace</td>\n",
              "      <td>http://www.food.com/recipe/survival-necklace-9...</td>\n",
              "      <td>banana,oat meal</td>\n",
              "      <td>HIGH</td>\n",
              "    </tr>\n",
              "    <tr>\n",
              "      <th>1951</th>\n",
              "      <td>50516</td>\n",
              "      <td>Strawberry Banana Smoothie</td>\n",
              "      <td>http://www.kraftrecipes.com/recipes/strawberry...</td>\n",
              "      <td>cow milk,banana,strawberry,oat meal</td>\n",
              "      <td>HIGH</td>\n",
              "    </tr>\n",
              "    <tr>\n",
              "      <th>1728</th>\n",
              "      <td>2818</td>\n",
              "      <td>Oatmeal and Bananas Breakfast (Baby Food)</td>\n",
              "      <td>http://www.food.com/recipe/oatmeal-and-bananas...</td>\n",
              "      <td>oat,cow milk,banana</td>\n",
              "      <td>HIGH</td>\n",
              "    </tr>\n",
              "  </tbody>\n",
              "</table>\n",
              "</div>\n",
              "      <button class=\"colab-df-convert\" onclick=\"convertToInteractive('df-fcb1bcba-fe46-4397-859c-c43e23af6bf9')\"\n",
              "              title=\"Convert this dataframe to an interactive table.\"\n",
              "              style=\"display:none;\">\n",
              "        \n",
              "  <svg xmlns=\"http://www.w3.org/2000/svg\" height=\"24px\"viewBox=\"0 0 24 24\"\n",
              "       width=\"24px\">\n",
              "    <path d=\"M0 0h24v24H0V0z\" fill=\"none\"/>\n",
              "    <path d=\"M18.56 5.44l.94 2.06.94-2.06 2.06-.94-2.06-.94-.94-2.06-.94 2.06-2.06.94zm-11 1L8.5 8.5l.94-2.06 2.06-.94-2.06-.94L8.5 2.5l-.94 2.06-2.06.94zm10 10l.94 2.06.94-2.06 2.06-.94-2.06-.94-.94-2.06-.94 2.06-2.06.94z\"/><path d=\"M17.41 7.96l-1.37-1.37c-.4-.4-.92-.59-1.43-.59-.52 0-1.04.2-1.43.59L10.3 9.45l-7.72 7.72c-.78.78-.78 2.05 0 2.83L4 21.41c.39.39.9.59 1.41.59.51 0 1.02-.2 1.41-.59l7.78-7.78 2.81-2.81c.8-.78.8-2.07 0-2.86zM5.41 20L4 18.59l7.72-7.72 1.47 1.35L5.41 20z\"/>\n",
              "  </svg>\n",
              "      </button>\n",
              "      \n",
              "  <style>\n",
              "    .colab-df-container {\n",
              "      display:flex;\n",
              "      flex-wrap:wrap;\n",
              "      gap: 12px;\n",
              "    }\n",
              "\n",
              "    .colab-df-convert {\n",
              "      background-color: #E8F0FE;\n",
              "      border: none;\n",
              "      border-radius: 50%;\n",
              "      cursor: pointer;\n",
              "      display: none;\n",
              "      fill: #1967D2;\n",
              "      height: 32px;\n",
              "      padding: 0 0 0 0;\n",
              "      width: 32px;\n",
              "    }\n",
              "\n",
              "    .colab-df-convert:hover {\n",
              "      background-color: #E2EBFA;\n",
              "      box-shadow: 0px 1px 2px rgba(60, 64, 67, 0.3), 0px 1px 3px 1px rgba(60, 64, 67, 0.15);\n",
              "      fill: #174EA6;\n",
              "    }\n",
              "\n",
              "    [theme=dark] .colab-df-convert {\n",
              "      background-color: #3B4455;\n",
              "      fill: #D2E3FC;\n",
              "    }\n",
              "\n",
              "    [theme=dark] .colab-df-convert:hover {\n",
              "      background-color: #434B5C;\n",
              "      box-shadow: 0px 1px 3px 1px rgba(0, 0, 0, 0.15);\n",
              "      filter: drop-shadow(0px 1px 2px rgba(0, 0, 0, 0.3));\n",
              "      fill: #FFFFFF;\n",
              "    }\n",
              "  </style>\n",
              "\n",
              "      <script>\n",
              "        const buttonEl =\n",
              "          document.querySelector('#df-fcb1bcba-fe46-4397-859c-c43e23af6bf9 button.colab-df-convert');\n",
              "        buttonEl.style.display =\n",
              "          google.colab.kernel.accessAllowed ? 'block' : 'none';\n",
              "\n",
              "        async function convertToInteractive(key) {\n",
              "          const element = document.querySelector('#df-fcb1bcba-fe46-4397-859c-c43e23af6bf9');\n",
              "          const dataTable =\n",
              "            await google.colab.kernel.invokeFunction('convertToInteractive',\n",
              "                                                     [key], {});\n",
              "          if (!dataTable) return;\n",
              "\n",
              "          const docLinkHtml = 'Like what you see? Visit the ' +\n",
              "            '<a target=\"_blank\" href=https://colab.research.google.com/notebooks/data_table.ipynb>data table notebook</a>'\n",
              "            + ' to learn more about interactive tables.';\n",
              "          element.innerHTML = '';\n",
              "          dataTable['output_type'] = 'display_data';\n",
              "          await google.colab.output.renderOutput(dataTable, element);\n",
              "          const docLink = document.createElement('div');\n",
              "          docLink.innerHTML = docLinkHtml;\n",
              "          element.appendChild(docLink);\n",
              "        }\n",
              "      </script>\n",
              "    </div>\n",
              "  </div>\n",
              "  "
            ]
          },
          "metadata": {}
        },
        {
          "output_type": "display_data",
          "data": {
            "text/plain": [
              "'Oatmeal and Bananas Breakfast (Baby Food)'"
            ],
            "application/vnd.google.colaboratory.intrinsic+json": {
              "type": "string"
            }
          },
          "metadata": {}
        },
        {
          "output_type": "display_data",
          "data": {
            "text/plain": [
              "'http://www.food.com/recipe/oatmeal-and-bananas-breakfast-baby-food-52539'"
            ],
            "application/vnd.google.colaboratory.intrinsic+json": {
              "type": "string"
            }
          },
          "metadata": {}
        },
        {
          "output_type": "display_data",
          "data": {
            "text/plain": [
              "'oat,cow milk,banana'"
            ],
            "application/vnd.google.colaboratory.intrinsic+json": {
              "type": "string"
            }
          },
          "metadata": {}
        }
      ]
    },
    {
      "cell_type": "code",
      "source": [
        "prompt = ['A recipe '+ingredients]\n",
        "\n",
        "text_generation_pipeline = pipeline(\"text-generation\", model=model, tokenizer=tokenizer, output_scores=True)\n",
        "generated_text1 = text_generation_pipeline(prompt, max_length=40, do_sample=True)\n",
        "\n",
        "generated_text1[0]"
      ],
      "metadata": {
        "colab": {
          "base_uri": "https://localhost:8080/"
        },
        "id": "BCNfEJ5uR9c7",
        "outputId": "1337228d-c9f2-4ed9-ae77-e4f1302425b2"
      },
      "execution_count": null,
      "outputs": [
        {
          "output_type": "execute_result",
          "data": {
            "text/plain": [
              "[{'generated_text': 'A recipe oat,cow milk,banana cream and pineapple juice with sweetened shredded coconut and fresh pineapple,tossed with a little grated ginger in a bowl made into a mold and'}]"
            ]
          },
          "metadata": {},
          "execution_count": 47
        }
      ]
    },
    {
      "cell_type": "code",
      "source": [
        "prompt = ['What do you think about '+title+' it has high sustainability']\n",
        "\n",
        "text_generation_pipeline = pipeline(\"text-generation\", model=model, tokenizer=tokenizer, output_scores=True)\n",
        "generated_text2 = text_generation_pipeline(prompt, max_length=40, do_sample=True)\n",
        "\n",
        "generated_text2[0]"
      ],
      "metadata": {
        "colab": {
          "base_uri": "https://localhost:8080/"
        },
        "id": "yCpZXn3jm7w5",
        "outputId": "f8dc5aa8-89eb-4b19-fe1c-1ea02f7c317c"
      },
      "execution_count": null,
      "outputs": [
        {
          "output_type": "execute_result",
          "data": {
            "text/plain": [
              "[{'generated_text': 'What do you think about Oatmeal and Bananas Breakfast (Baby Food) it has high sustainability.\\n\\nDo you like the idea of Organic Bananas, Oatmeal (Breakfast Cereal)'}]"
            ]
          },
          "metadata": {},
          "execution_count": 48
        }
      ]
    },
    {
      "cell_type": "code",
      "source": [
        "generated_text_high_sustainable = str(generated_text1[0][0]['generated_text']) + '.' + str(generated_text2[0][0]['generated_text']) + ', you can find more on: ' + high_results.iloc[2, 2]\n",
        "print(generated_text_high_sustainable.replace('\\n', ''))"
      ],
      "metadata": {
        "colab": {
          "base_uri": "https://localhost:8080/"
        },
        "id": "SEEygM9cNmCT",
        "outputId": "8f55f2e7-1725-4522-85e4-4a9e03987c47"
      },
      "execution_count": null,
      "outputs": [
        {
          "output_type": "stream",
          "name": "stdout",
          "text": [
            "A recipe oat,cow milk,banana cream and pineapple juice with sweetened shredded coconut and fresh pineapple,tossed with a little grated ginger in a bowl made into a mold and.What do you think about Oatmeal and Bananas Breakfast (Baby Food) it has high sustainability.Do you like the idea of Organic Bananas, Oatmeal (Breakfast Cereal), you can find more on: http://www.food.com/recipe/oatmeal-and-bananas-breakfast-baby-food-52539\n"
          ]
        }
      ]
    },
    {
      "cell_type": "markdown",
      "source": [
        "## Medium sustainable"
      ],
      "metadata": {
        "id": "YArttTUnB5G4"
      }
    },
    {
      "cell_type": "code",
      "source": [
        "title = medium_results.iloc[2,1]\n",
        "url = medium_results.iloc[2, 2]\n",
        "ingredients = medium_results.iloc[2, 3]\n",
        "\n",
        "display(medium_results, title, url, ingredients)"
      ],
      "metadata": {
        "colab": {
          "base_uri": "https://localhost:8080/",
          "height": 196
        },
        "id": "PNpSPDHUTYop",
        "outputId": "d073daff-abba-4d8a-c6d1-f8e6c4fe36a6"
      },
      "execution_count": null,
      "outputs": [
        {
          "output_type": "display_data",
          "data": {
            "text/plain": [
              "      recipe_id                    title  \\\n",
              "487        1305           Grapefruit Oil   \n",
              "1951      42439  Milk Gravy (Paula Deen)   \n",
              "1728       1100        Pressed Pie Crust   \n",
              "\n",
              "                                                    url  \\\n",
              "487             http://cooking.nytimes.com/recipes/3950   \n",
              "1951  http://www.food.com/recipe/milk-gravy-paula-de...   \n",
              "1728  http://tastykitchen.com/recipes/desserts/press...   \n",
              "\n",
              "                                            ingredients SUSTAINABILITY  \n",
              "487                         canola oil,grapefruit juice         MEDIUM  \n",
              "1951  olive oil,cow milk,wheat plain flour,black pep...         MEDIUM  \n",
              "1728    olive oil,cow milk,wheat plain flour,cane sugar         MEDIUM  "
            ],
            "text/html": [
              "\n",
              "  <div id=\"df-b986f3ef-4c2e-4722-a2bf-49d1e15e49b4\">\n",
              "    <div class=\"colab-df-container\">\n",
              "      <div>\n",
              "<style scoped>\n",
              "    .dataframe tbody tr th:only-of-type {\n",
              "        vertical-align: middle;\n",
              "    }\n",
              "\n",
              "    .dataframe tbody tr th {\n",
              "        vertical-align: top;\n",
              "    }\n",
              "\n",
              "    .dataframe thead th {\n",
              "        text-align: right;\n",
              "    }\n",
              "</style>\n",
              "<table border=\"1\" class=\"dataframe\">\n",
              "  <thead>\n",
              "    <tr style=\"text-align: right;\">\n",
              "      <th></th>\n",
              "      <th>recipe_id</th>\n",
              "      <th>title</th>\n",
              "      <th>url</th>\n",
              "      <th>ingredients</th>\n",
              "      <th>SUSTAINABILITY</th>\n",
              "    </tr>\n",
              "  </thead>\n",
              "  <tbody>\n",
              "    <tr>\n",
              "      <th>487</th>\n",
              "      <td>1305</td>\n",
              "      <td>Grapefruit Oil</td>\n",
              "      <td>http://cooking.nytimes.com/recipes/3950</td>\n",
              "      <td>canola oil,grapefruit juice</td>\n",
              "      <td>MEDIUM</td>\n",
              "    </tr>\n",
              "    <tr>\n",
              "      <th>1951</th>\n",
              "      <td>42439</td>\n",
              "      <td>Milk Gravy (Paula Deen)</td>\n",
              "      <td>http://www.food.com/recipe/milk-gravy-paula-de...</td>\n",
              "      <td>olive oil,cow milk,wheat plain flour,black pep...</td>\n",
              "      <td>MEDIUM</td>\n",
              "    </tr>\n",
              "    <tr>\n",
              "      <th>1728</th>\n",
              "      <td>1100</td>\n",
              "      <td>Pressed Pie Crust</td>\n",
              "      <td>http://tastykitchen.com/recipes/desserts/press...</td>\n",
              "      <td>olive oil,cow milk,wheat plain flour,cane sugar</td>\n",
              "      <td>MEDIUM</td>\n",
              "    </tr>\n",
              "  </tbody>\n",
              "</table>\n",
              "</div>\n",
              "      <button class=\"colab-df-convert\" onclick=\"convertToInteractive('df-b986f3ef-4c2e-4722-a2bf-49d1e15e49b4')\"\n",
              "              title=\"Convert this dataframe to an interactive table.\"\n",
              "              style=\"display:none;\">\n",
              "        \n",
              "  <svg xmlns=\"http://www.w3.org/2000/svg\" height=\"24px\"viewBox=\"0 0 24 24\"\n",
              "       width=\"24px\">\n",
              "    <path d=\"M0 0h24v24H0V0z\" fill=\"none\"/>\n",
              "    <path d=\"M18.56 5.44l.94 2.06.94-2.06 2.06-.94-2.06-.94-.94-2.06-.94 2.06-2.06.94zm-11 1L8.5 8.5l.94-2.06 2.06-.94-2.06-.94L8.5 2.5l-.94 2.06-2.06.94zm10 10l.94 2.06.94-2.06 2.06-.94-2.06-.94-.94-2.06-.94 2.06-2.06.94z\"/><path d=\"M17.41 7.96l-1.37-1.37c-.4-.4-.92-.59-1.43-.59-.52 0-1.04.2-1.43.59L10.3 9.45l-7.72 7.72c-.78.78-.78 2.05 0 2.83L4 21.41c.39.39.9.59 1.41.59.51 0 1.02-.2 1.41-.59l7.78-7.78 2.81-2.81c.8-.78.8-2.07 0-2.86zM5.41 20L4 18.59l7.72-7.72 1.47 1.35L5.41 20z\"/>\n",
              "  </svg>\n",
              "      </button>\n",
              "      \n",
              "  <style>\n",
              "    .colab-df-container {\n",
              "      display:flex;\n",
              "      flex-wrap:wrap;\n",
              "      gap: 12px;\n",
              "    }\n",
              "\n",
              "    .colab-df-convert {\n",
              "      background-color: #E8F0FE;\n",
              "      border: none;\n",
              "      border-radius: 50%;\n",
              "      cursor: pointer;\n",
              "      display: none;\n",
              "      fill: #1967D2;\n",
              "      height: 32px;\n",
              "      padding: 0 0 0 0;\n",
              "      width: 32px;\n",
              "    }\n",
              "\n",
              "    .colab-df-convert:hover {\n",
              "      background-color: #E2EBFA;\n",
              "      box-shadow: 0px 1px 2px rgba(60, 64, 67, 0.3), 0px 1px 3px 1px rgba(60, 64, 67, 0.15);\n",
              "      fill: #174EA6;\n",
              "    }\n",
              "\n",
              "    [theme=dark] .colab-df-convert {\n",
              "      background-color: #3B4455;\n",
              "      fill: #D2E3FC;\n",
              "    }\n",
              "\n",
              "    [theme=dark] .colab-df-convert:hover {\n",
              "      background-color: #434B5C;\n",
              "      box-shadow: 0px 1px 3px 1px rgba(0, 0, 0, 0.15);\n",
              "      filter: drop-shadow(0px 1px 2px rgba(0, 0, 0, 0.3));\n",
              "      fill: #FFFFFF;\n",
              "    }\n",
              "  </style>\n",
              "\n",
              "      <script>\n",
              "        const buttonEl =\n",
              "          document.querySelector('#df-b986f3ef-4c2e-4722-a2bf-49d1e15e49b4 button.colab-df-convert');\n",
              "        buttonEl.style.display =\n",
              "          google.colab.kernel.accessAllowed ? 'block' : 'none';\n",
              "\n",
              "        async function convertToInteractive(key) {\n",
              "          const element = document.querySelector('#df-b986f3ef-4c2e-4722-a2bf-49d1e15e49b4');\n",
              "          const dataTable =\n",
              "            await google.colab.kernel.invokeFunction('convertToInteractive',\n",
              "                                                     [key], {});\n",
              "          if (!dataTable) return;\n",
              "\n",
              "          const docLinkHtml = 'Like what you see? Visit the ' +\n",
              "            '<a target=\"_blank\" href=https://colab.research.google.com/notebooks/data_table.ipynb>data table notebook</a>'\n",
              "            + ' to learn more about interactive tables.';\n",
              "          element.innerHTML = '';\n",
              "          dataTable['output_type'] = 'display_data';\n",
              "          await google.colab.output.renderOutput(dataTable, element);\n",
              "          const docLink = document.createElement('div');\n",
              "          docLink.innerHTML = docLinkHtml;\n",
              "          element.appendChild(docLink);\n",
              "        }\n",
              "      </script>\n",
              "    </div>\n",
              "  </div>\n",
              "  "
            ]
          },
          "metadata": {}
        },
        {
          "output_type": "display_data",
          "data": {
            "text/plain": [
              "'Pressed Pie Crust'"
            ],
            "application/vnd.google.colaboratory.intrinsic+json": {
              "type": "string"
            }
          },
          "metadata": {}
        },
        {
          "output_type": "display_data",
          "data": {
            "text/plain": [
              "'http://tastykitchen.com/recipes/desserts/pressed-pie-crust/'"
            ],
            "application/vnd.google.colaboratory.intrinsic+json": {
              "type": "string"
            }
          },
          "metadata": {}
        },
        {
          "output_type": "display_data",
          "data": {
            "text/plain": [
              "'olive oil,cow milk,wheat plain flour,cane sugar'"
            ],
            "application/vnd.google.colaboratory.intrinsic+json": {
              "type": "string"
            }
          },
          "metadata": {}
        }
      ]
    },
    {
      "cell_type": "code",
      "source": [
        "prompt = ['A recipe '+ingredients]\n",
        "\n",
        "text_generation_pipeline = pipeline(\"text-generation\", model=model, tokenizer=tokenizer, output_scores=True)\n",
        "generated_text1 = text_generation_pipeline(prompt, max_length=40, do_sample=True)\n",
        "\n",
        "generated_text1[0]"
      ],
      "metadata": {
        "colab": {
          "base_uri": "https://localhost:8080/"
        },
        "id": "zlCSqoz3Bkkv",
        "outputId": "9ecb8e25-b93d-4870-b057-00c2674bffd8"
      },
      "execution_count": null,
      "outputs": [
        {
          "output_type": "execute_result",
          "data": {
            "text/plain": [
              "[{'generated_text': \"A recipe olive oil,cow milk,wheat plain flour,cane sugar,honey,baker's yeast,water,eggs,water,lemon juice,parsley,\"}]"
            ]
          },
          "metadata": {},
          "execution_count": 62
        }
      ]
    },
    {
      "cell_type": "code",
      "source": [
        "prompt = ['What do you think about '+title+'? it has medium sustainability']\n",
        "\n",
        "text_generation_pipeline = pipeline(\"text-generation\", model=model, tokenizer=tokenizer, output_scores=True)\n",
        "generated_text2 = text_generation_pipeline(prompt, max_length=40, do_sample=True)\n",
        "\n",
        "generated_text2[0]"
      ],
      "metadata": {
        "colab": {
          "base_uri": "https://localhost:8080/"
        },
        "id": "WceduxImBlBs",
        "outputId": "7b76947f-b3d7-41e6-ab30-fd5e071dbf2f"
      },
      "execution_count": null,
      "outputs": [
        {
          "output_type": "execute_result",
          "data": {
            "text/plain": [
              "[{'generated_text': 'What do you think about Pressed Pie Crust? it has medium sustainability at 1.5% CO2. There is also a very long life and no need for baking for several baking cycles.'}]"
            ]
          },
          "metadata": {},
          "execution_count": 63
        }
      ]
    },
    {
      "cell_type": "code",
      "source": [
        "generated_test_medium_sustainable = generated_text_high_sustainable = str(generated_text1[0][0]['generated_text']) + '.' + str(generated_text2[0][0]['generated_text']) + ', you can find more on: ' + high_results.iloc[2, 2]\n",
        "print(generated_text_high_sustainable.replace('\\n', ''))"
      ],
      "metadata": {
        "colab": {
          "base_uri": "https://localhost:8080/"
        },
        "id": "qrCyRWY7SXRK",
        "outputId": "fd83251e-ee7d-4667-db9f-f7447c75b4c8"
      },
      "execution_count": null,
      "outputs": [
        {
          "output_type": "stream",
          "name": "stdout",
          "text": [
            "A recipe olive oil,cow milk,wheat plain flour,cane sugar,honey,baker's yeast,water,eggs,water,lemon juice,parsley,.What do you think about Pressed Pie Crust? it has medium sustainability at 1.5% CO2. There is also a very long life and no need for baking for several baking cycles., you can find more on: http://www.food.com/recipe/oatmeal-and-bananas-breakfast-baby-food-52539\n"
          ]
        }
      ]
    }
  ],
  "metadata": {
    "colab": {
      "provenance": [],
      "machine_shape": "hm"
    },
    "kernelspec": {
      "display_name": "Python 3",
      "name": "python3"
    },
    "language_info": {
      "name": "python"
    },
    "gpuClass": "standard"
  },
  "nbformat": 4,
  "nbformat_minor": 0
}